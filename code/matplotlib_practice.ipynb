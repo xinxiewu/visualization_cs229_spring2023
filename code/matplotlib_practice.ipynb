{
 "cells": [
  {
   "cell_type": "code",
   "execution_count": 1,
   "id": "008d6dc0",
   "metadata": {},
   "outputs": [],
   "source": [
    "import matplotlib as mpl\n",
    "import matplotlib.pyplot as plt"
   ]
  },
  {
   "cell_type": "markdown",
   "id": "9aaea9ca",
   "metadata": {},
   "source": [
    "Exercise 1: Produce a figure with a given (and exact) pixel size (e.g.512x512 pixels)\n",
    "\n",
    "    - Consider how to specify the size and save the figure"
   ]
  },
  {
   "cell_type": "code",
   "execution_count": 20,
   "id": "7ec5fd74",
   "metadata": {},
   "outputs": [
    {
     "data": {
      "text/plain": [
       "<Figure size 7802.88x7802.88 with 0 Axes>"
      ]
     },
     "metadata": {},
     "output_type": "display_data"
    }
   ],
   "source": [
    "fig = plt.figure(figsize = (6,6), dpi = 512*2.54)\n",
    "plt.savefig(\"Exercise_1.png\")"
   ]
  },
  {
   "cell_type": "code",
   "execution_count": null,
   "id": "035289bc",
   "metadata": {},
   "outputs": [],
   "source": []
  }
 ],
 "metadata": {
  "kernelspec": {
   "display_name": "Python 3 (ipykernel)",
   "language": "python",
   "name": "python3"
  },
  "language_info": {
   "codemirror_mode": {
    "name": "ipython",
    "version": 3
   },
   "file_extension": ".py",
   "mimetype": "text/x-python",
   "name": "python",
   "nbconvert_exporter": "python",
   "pygments_lexer": "ipython3",
   "version": "3.10.9"
  }
 },
 "nbformat": 4,
 "nbformat_minor": 5
}
